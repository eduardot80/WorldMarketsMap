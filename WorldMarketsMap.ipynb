{
 "cells": [
  {
   "cell_type": "markdown",
   "id": "9b163ca4",
   "metadata": {},
   "source": [
    "# World Markets Map\n",
    "### Oscilação das bolsas mundias\n",
    "Autor: Eduardo Teixeira / Scanner da Bolsa (https://scannerdabolsa.com.br/)\n",
    "\n",
    "\n",
    "OBJETIVO: Criar um mapa mundi colorido e interativo, mostrando a variação das principais bolsas mundiais em tempo real\n",
    "\n",
    "IMPORTANTE: É possível que o Github não execute o mapa ao rodar o código. Por isso recomendo que execute no Jupyter ou Colab\n",
    "\n"
   ]
  },
  {
   "cell_type": "markdown",
   "id": "46579d16",
   "metadata": {},
   "source": [
    "## 1. Bibliotecas utilizadas neste projeto\n",
    "\n",
    "* Pandas: armazenamento e manipulação dos dados\n",
    "* Datetime: data de consulta \n",
    "* Pandas Datareader: obter histórico dos ativos do Yahoo Finance\n",
    "* Plotly: gerar a visualização gráfica"
   ]
  },
  {
   "cell_type": "code",
   "execution_count": 1,
   "id": "5e2d94a3",
   "metadata": {},
   "outputs": [
    {
     "name": "stdout",
     "output_type": "stream",
     "text": [
      "Requirement already satisfied: plotly in c:\\users\\windows\\anaconda3\\lib\\site-packages (5.6.0)\n",
      "Requirement already satisfied: six in c:\\users\\windows\\anaconda3\\lib\\site-packages (from plotly) (1.16.0)\n",
      "Requirement already satisfied: tenacity>=6.2.0 in c:\\users\\windows\\anaconda3\\lib\\site-packages (from plotly) (8.0.1)\n"
     ]
    }
   ],
   "source": [
    "import pandas as pd\n",
    "\n",
    "import datetime\n",
    "from datetime import timedelta\n",
    "\n",
    "from pandas_datareader import DataReader as data_reader\n",
    "\n",
    "!pip install plotly\n",
    "import plotly.express as px\n"
   ]
  },
  {
   "cell_type": "markdown",
   "id": "e8c2ecdc",
   "metadata": {},
   "source": [
    "## 2. Carregar a lista de países/índices\n",
    "\n",
    "No csv adicionei algums dos principais países e seus respectivos índices de bolsa. Tentei adicionar o índice oficial de cada país, sempre que possível. Porém em alguns casos percebi que o Yahoo Finance não mantém histórico de diversos instrumentos, sendo um caso notável o índice do Reino Unido FTSE (^FTSE). Para estas situações fiz a substituição por outro índice semelhante, ou ainda algum ETF negociado em NYC, como os iShares da BlackRock. \n",
    "\n",
    "Um ponto que vale um bom debate é se seria mais interessante que todos os ativos da lista sejam ETFs negociados na bolsa de NY, assim \"padronizando\" sua conversão em USD e também com relação ao fuso horário, onde todos os ativos estariam sendo negociados no mesmo horário.\n",
    "\n",
    "Você pode customizar esta lista conforme a sua necessidade, substituindo os tickers e também adicionando novos países. Para isso basta adicionar corretamente o código ISO de cada país, e o ticker (Symbol) do ativo desejado, do Yahoo Finance:\n",
    "\n",
    "Lista de ISOs: https://en.wikipedia.org/wiki/List_of_ISO_3166_country_codes\n",
    "\n",
    "Lista de ativos mundiais: https://finance.yahoo.com/world-indices\n",
    "\n"
   ]
  },
  {
   "cell_type": "code",
   "execution_count": 2,
   "id": "7f340b7b",
   "metadata": {
    "scrolled": false
   },
   "outputs": [
    {
     "data": {
      "text/html": [
       "<div>\n",
       "<style scoped>\n",
       "    .dataframe tbody tr th:only-of-type {\n",
       "        vertical-align: middle;\n",
       "    }\n",
       "\n",
       "    .dataframe tbody tr th {\n",
       "        vertical-align: top;\n",
       "    }\n",
       "\n",
       "    .dataframe thead th {\n",
       "        text-align: right;\n",
       "    }\n",
       "</style>\n",
       "<table border=\"1\" class=\"dataframe\">\n",
       "  <thead>\n",
       "    <tr style=\"text-align: right;\">\n",
       "      <th></th>\n",
       "      <th>Country</th>\n",
       "      <th>ISO-code</th>\n",
       "      <th>Symbol</th>\n",
       "    </tr>\n",
       "  </thead>\n",
       "  <tbody>\n",
       "    <tr>\n",
       "      <th>0</th>\n",
       "      <td>Brazil</td>\n",
       "      <td>BRA</td>\n",
       "      <td>^BVSP</td>\n",
       "    </tr>\n",
       "    <tr>\n",
       "      <th>1</th>\n",
       "      <td>Argentina</td>\n",
       "      <td>ARG</td>\n",
       "      <td>^MERV</td>\n",
       "    </tr>\n",
       "    <tr>\n",
       "      <th>2</th>\n",
       "      <td>Chile</td>\n",
       "      <td>CHL</td>\n",
       "      <td>ECH</td>\n",
       "    </tr>\n",
       "    <tr>\n",
       "      <th>3</th>\n",
       "      <td>Colombia</td>\n",
       "      <td>COL</td>\n",
       "      <td>ICOL</td>\n",
       "    </tr>\n",
       "    <tr>\n",
       "      <th>4</th>\n",
       "      <td>Peru</td>\n",
       "      <td>PER</td>\n",
       "      <td>EPU</td>\n",
       "    </tr>\n",
       "  </tbody>\n",
       "</table>\n",
       "</div>"
      ],
      "text/plain": [
       "     Country ISO-code Symbol\n",
       "0     Brazil      BRA  ^BVSP\n",
       "1  Argentina      ARG  ^MERV\n",
       "2      Chile      CHL    ECH\n",
       "3   Colombia      COL   ICOL\n",
       "4       Peru      PER    EPU"
      ]
     },
     "execution_count": 2,
     "metadata": {},
     "output_type": "execute_result"
    }
   ],
   "source": [
    "# carregando o csv em um dataframe e visualizando as primeiras linhas, para entender a estrutura da tabela\n",
    "\n",
    "df = pd.read_csv('lista_paises.csv')\n",
    "df.head()"
   ]
  },
  {
   "cell_type": "markdown",
   "id": "f1c881ce",
   "metadata": {},
   "source": [
    "## 3. Obter a cotação dos ativos\n",
    "\n",
    "A função <b>DataReader</b> do pandas_datareader retorna o histórico de cotação do ativo através da fonte de dados escolhida (no caso o Yahoo Finance). Para obter o retorno (variação), é necessário efetuar o cálculo após a obtenção destes dados.\n",
    "\n",
    "Neste código buscamos o histórico dos 10 últimos dias (timedelta 10), para garantir que pelo menos 2 cotações retornem e seja reaizado o cálculo da variação. Isto é devido a datas que caem em fim de semana ou longos períodos de feriados em que a bolsa pode ficar fechada.\n",
    "\n",
    "Com um loop <b>for</b> fazemos o download de cada item da lista de países, e calculamos o retorno através da função <b>pct_change()</b> do pandas. Pegamos o registro mais atual desta coluna e adicionamos no dataframe principal, criando uma nova coluna chamada <b>Variação %</b>:"
   ]
  },
  {
   "cell_type": "code",
   "execution_count": null,
   "id": "eac72fb6",
   "metadata": {
    "scrolled": true
   },
   "outputs": [
    {
     "name": "stdout",
     "output_type": "stream",
     "text": [
      "processando Brazil : ^BVSP\n",
      "processando Argentina : ^MERV\n",
      "processando Chile : ECH\n",
      "processando Colombia : ICOL\n",
      "processando Peru : EPU\n",
      "processando Mexico : ^MXX\n",
      "processando United States : ^GSPC\n",
      "processando Canada : ^GSPTSE\n",
      "processando United Kingdom : ISF.L\n",
      "processando Germany : ^GDAXI\n",
      "processando France : ^FCHI\n",
      "processando Portugal : PGAL\n",
      "processando Spain : ^IBEX\n",
      "processando Italy : EWI\n",
      "processando Switzerland : ^SSMI\n",
      "processando Poland : ^PTL\n",
      "processando Norway : ENOR\n",
      "processando Sweden : ^OMX\n",
      "processando Finland : ^OMXH25\n",
      "processando Greece : GREK\n",
      "processando Russia : IMOEX.ME\n",
      "processando Turkey : XU100.IS\n",
      "processando Egypt : EGPT\n",
      "processando Nigeria : NGE\n",
      "processando South Africa : JSE.JO\n",
      "processando Saudi Arabia : KSA\n",
      "processando UAE : UAE\n",
      "processando Pakistan : PAK\n",
      "processando India : ^NSEI\n",
      "processando China : 000001.SS\n"
     ]
    }
   ],
   "source": [
    "for i, row in df.iterrows():\n",
    "    \n",
    "    print('processando',row['Country'],':',row['Symbol'])\n",
    "    \n",
    "    # dataframe temporario, para salvar o histórico de cotação do ativo e realizar o cálculo do retorno\n",
    "    df_temp = data_reader(row['Symbol'], data_source='yahoo', start=str(datetime.date.today() - timedelta(10)))\n",
    "\n",
    "    # calcular o retorno em numa nova coluna\n",
    "    df_temp['Variação %'] = df_temp['Adj Close'].pct_change() * 100\n",
    "    \n",
    "    # salvar o valor de retorno mais atual no dataframe principal (df) na nova coluna criada (Variação %),\n",
    "    # na linha respectiva do país (i)\n",
    "    df.at[i,'Variação %'] = round(df_temp.iloc[-1]['Variação %'],2)  \n",
    "    #df.at[i,'Variação %'] = df_temp.iloc[-1]['Variação %']\n",
    "    \n",
    "    # Avisar se houve algum erro na obtenção dos dados. Se sim, não será exibido no mapa\n",
    "    if pd.isna(df.at[i,'Variação %']):\n",
    "        print('---->   erro em',row['Symbol'],':', df.at[i,'Variação %'],'(Não será exibido no mapa)')\n",
    "        "
   ]
  },
  {
   "cell_type": "markdown",
   "id": "cedf4109",
   "metadata": {},
   "source": [
    "### Dataframe atualizado com a nova coluna com os valores de variação de cada país:\n"
   ]
  },
  {
   "cell_type": "code",
   "execution_count": null,
   "id": "921ba750",
   "metadata": {
    "scrolled": true
   },
   "outputs": [],
   "source": [
    "df.head(10)"
   ]
  },
  {
   "cell_type": "markdown",
   "id": "12e71fad",
   "metadata": {},
   "source": [
    "## 4.Criar o Mapa Mundi (Plotly Cloropleth Map)\n",
    "\n",
    "Um mapa coroplético representa uma superfície estatística por meio de áreas simbolizadas com cores, sombreamentos ou padrões de acordo com uma escala que representa a proporcionalidade da variável estatística em causa, como por exemplo a densidade populacional ou o rendimento per capita. Os símbolos criados a partir desta primitiva coincidem com as regiões onde foram coletados os dados, o que dá a impressão de que há uniformidade de dados dentro de cada uma das regiões e que as quebras ocorrem sempre nos limites destas áreas. (Wikipedia)\n",
    "\n",
    "A biblioteca Plotly nos fornece uma forma muito prática de criar um <b>Cloropleth Map</b>, bastando informar a região (ISO-code) e o respectivo valor (Retorno), para que ele faça o preenchimento dos dados. Além disso, é possível customizar o elemento de diversas formas, conforme mostra o código abaixo:"
   ]
  },
  {
   "cell_type": "code",
   "execution_count": null,
   "id": "4926b9ed",
   "metadata": {},
   "outputs": [],
   "source": [
    "# definindo a fonte dos dados e coloração da escala\n",
    "fig = px.choropleth(df, \n",
    "                    locations=\"ISO-code\",    # identificação das regiões (países)\n",
    "                    color=\"Variação %\",      # coluna do df para popular os valores \n",
    "                    hover_name=\"Country\",\n",
    "                    range_color=[-5,5],      # limite de cores da escala. valores além deste numero terão a mesma cor do limite\n",
    "                    color_continuous_scale = [\"maroon\",\"red\",\"lightcoral\",\"white\",\"lightgreen\",\"green\",\"darkgreen\"], \n",
    "                    color_continuous_midpoint=0)\n",
    "\n",
    "\n",
    "# configurações de layout, título e fontes\n",
    "fig.update_layout(\n",
    "    width=1000,\n",
    "    height=620,\n",
    "    geo=dict(\n",
    "        showframe=True,\n",
    "        showcoastlines=True,\n",
    "        landcolor = 'white',\n",
    "        showocean=True, \n",
    "        oceancolor=\"azure\",\n",
    "        showlakes=True, \n",
    "        lakecolor=\"azure\",\n",
    "        projection_type='equirectangular'\n",
    "    ),\n",
    "    title={\n",
    "        'text': 'Performance das Bolsas Mundiais',\n",
    "        'y':0.9,\n",
    "        'x':0.5,\n",
    "        'xanchor': 'center',\n",
    "        'yanchor': 'top',\n",
    "    },\n",
    "    title_font_color='#525252',\n",
    "    title_font_size=22,\n",
    "        showlegend=False,\n",
    "    font=dict(\n",
    "        family='Sans-serif', \n",
    "        size=15, \n",
    "        color='#525252'\n",
    "    ),\n",
    "    annotations = [dict(\n",
    "        x=0.5,\n",
    "        y=0.25,\n",
    "        xref='paper',\n",
    "        yref='paper',\n",
    "        text='<a href=\"https://scannerdabolsa.com.br/?utm_source=plots\">@scannerdabolsa</a>',\n",
    "        showarrow = False\n",
    "    )]\n",
    ")\n",
    "\n",
    "# para mais customizações veja documentação: https://plotly.github.io/plotly.py-docs/generated/plotly.express.choropleth.html\n",
    "\n",
    "\n",
    "fig.show()"
   ]
  },
  {
   "cell_type": "code",
   "execution_count": null,
   "id": "2c187779",
   "metadata": {},
   "outputs": [],
   "source": []
  }
 ],
 "metadata": {
  "kernelspec": {
   "display_name": "Python 3 (ipykernel)",
   "language": "python",
   "name": "python3"
  },
  "language_info": {
   "codemirror_mode": {
    "name": "ipython",
    "version": 3
   },
   "file_extension": ".py",
   "mimetype": "text/x-python",
   "name": "python",
   "nbconvert_exporter": "python",
   "pygments_lexer": "ipython3",
   "version": "3.9.7"
  }
 },
 "nbformat": 4,
 "nbformat_minor": 5
}
